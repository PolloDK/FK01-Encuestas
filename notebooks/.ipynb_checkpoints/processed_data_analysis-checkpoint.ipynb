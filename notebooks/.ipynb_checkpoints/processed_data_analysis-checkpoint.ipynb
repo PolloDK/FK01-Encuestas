{
 "cells": [
  {
   "cell_type": "markdown",
   "id": "e79a1051",
   "metadata": {},
   "source": [
    "# Análisis de data procesada:"
   ]
  },
  {
   "cell_type": "markdown",
   "id": "0247464a",
   "metadata": {},
   "source": [
    "La data se obtuvo mediante el Apify en su versión gratuita. Se scrapearon tweets mencionando a 'Boric' desde el 01-03-2025 hasta el 06-03-2025."
   ]
  },
  {
   "cell_type": "code",
   "execution_count": 1,
   "id": "7d1576da",
   "metadata": {},
   "outputs": [],
   "source": [
    "import pandas as pd\n",
    "import matplotlib.pyplot as plt\n",
    "from wordcloud import WordCloud"
   ]
  },
  {
   "cell_type": "code",
   "execution_count": 3,
   "id": "8aa29bc5",
   "metadata": {},
   "outputs": [
    {
     "ename": "NameError",
     "evalue": "name 'data' is not defined",
     "output_type": "error",
     "traceback": [
      "\u001b[0;31m---------------------------------------------------------------------------\u001b[0m",
      "\u001b[0;31mNameError\u001b[0m                                 Traceback (most recent call last)",
      "Cell \u001b[0;32mIn [3], line 1\u001b[0m\n\u001b[0;32m----> 1\u001b[0m df \u001b[38;5;241m=\u001b[39m pd\u001b[38;5;241m.\u001b[39mread_csv(\u001b[43mdata\u001b[49m\u001b[38;5;241m/\u001b[39msentiment_data\u001b[38;5;241m.\u001b[39mcsv)\n\u001b[1;32m      2\u001b[0m df\u001b[38;5;241m.\u001b[39mhead(\u001b[38;5;241m5\u001b[39m)\n",
      "\u001b[0;31mNameError\u001b[0m: name 'data' is not defined"
     ]
    }
   ],
   "source": [
    "df = pd.read_csv(data/sentiment_data.csv)\n",
    "df.head(5)"
   ]
  },
  {
   "cell_type": "markdown",
   "id": "f4dde441",
   "metadata": {},
   "source": [
    "### Limpieza de datos:"
   ]
  },
  {
   "cell_type": "markdown",
   "id": "259490e4",
   "metadata": {},
   "source": [
    "Primero limpearemos hashtags, links y largo de los tweets:"
   ]
  },
  {
   "cell_type": "code",
   "execution_count": 8,
   "id": "091a5f9b",
   "metadata": {},
   "outputs": [],
   "source": [
    "import nltk\n",
    "import re\n",
    "from nltk.corpus import stopwords"
   ]
  },
  {
   "cell_type": "code",
   "execution_count": 9,
   "id": "d30e77ed",
   "metadata": {},
   "outputs": [
    {
     "name": "stderr",
     "output_type": "stream",
     "text": [
      "[nltk_data] Downloading package stopwords to\n",
      "[nltk_data]     /home/pollodk/nltk_data...\n",
      "[nltk_data]   Package stopwords is already up-to-date!\n"
     ]
    },
    {
     "data": {
      "text/plain": [
       "True"
      ]
     },
     "execution_count": 9,
     "metadata": {},
     "output_type": "execute_result"
    }
   ],
   "source": [
    "nltk.download('stopwords')"
   ]
  },
  {
   "cell_type": "code",
   "execution_count": 24,
   "id": "535e9c6a",
   "metadata": {},
   "outputs": [
    {
     "data": {
      "text/html": [
       "<div>\n",
       "<style scoped>\n",
       "    .dataframe tbody tr th:only-of-type {\n",
       "        vertical-align: middle;\n",
       "    }\n",
       "\n",
       "    .dataframe tbody tr th {\n",
       "        vertical-align: top;\n",
       "    }\n",
       "\n",
       "    .dataframe thead th {\n",
       "        text-align: right;\n",
       "    }\n",
       "</style>\n",
       "<table border=\"1\" class=\"dataframe\">\n",
       "  <thead>\n",
       "    <tr style=\"text-align: right;\">\n",
       "      <th></th>\n",
       "      <th>text</th>\n",
       "      <th>text_limpio</th>\n",
       "    </tr>\n",
       "  </thead>\n",
       "  <tbody>\n",
       "    <tr>\n",
       "      <th>0</th>\n",
       "      <td>Quiere ver como aumentan su patrimonio los min...</td>\n",
       "      <td>quiere ver aumentan patrimonio ministros boric...</td>\n",
       "    </tr>\n",
       "    <tr>\n",
       "      <th>1</th>\n",
       "      <td>@fenuchile @ivanwese De dónde, si Boric siempr...</td>\n",
       "      <td>dónde si boric siempre amarillo votamos</td>\n",
       "    </tr>\n",
       "    <tr>\n",
       "      <th>2</th>\n",
       "      <td>Que buena vida de los ZURDOS que no tienen que...</td>\n",
       "      <td>buena vida zurdos lidiar consecuencias politic...</td>\n",
       "    </tr>\n",
       "    <tr>\n",
       "      <th>3</th>\n",
       "      <td>@jgalemparte Y por qué hay que andar comprando...</td>\n",
       "      <td>andar comprando casas ex presidentes imagino f...</td>\n",
       "    </tr>\n",
       "    <tr>\n",
       "      <th>4</th>\n",
       "      <td>@PenajaAgain Magnum thin 😭😭😭😭 he hates em so h...</td>\n",
       "      <td>magnum thin hates em so hes looking at other o...</td>\n",
       "    </tr>\n",
       "  </tbody>\n",
       "</table>\n",
       "</div>"
      ],
      "text/plain": [
       "                                                text  \\\n",
       "0  Quiere ver como aumentan su patrimonio los min...   \n",
       "1  @fenuchile @ivanwese De dónde, si Boric siempr...   \n",
       "2  Que buena vida de los ZURDOS que no tienen que...   \n",
       "3  @jgalemparte Y por qué hay que andar comprando...   \n",
       "4  @PenajaAgain Magnum thin 😭😭😭😭 he hates em so h...   \n",
       "\n",
       "                                         text_limpio  \n",
       "0  quiere ver aumentan patrimonio ministros boric...  \n",
       "1            dónde si boric siempre amarillo votamos  \n",
       "2  buena vida zurdos lidiar consecuencias politic...  \n",
       "3  andar comprando casas ex presidentes imagino f...  \n",
       "4  magnum thin hates em so hes looking at other o...  "
      ]
     },
     "execution_count": 24,
     "metadata": {},
     "output_type": "execute_result"
    }
   ],
   "source": [
    "stop_words = set(stopwords.words(\"spanish\"))\n",
    "\n",
    "def clean_text(text):\n",
    "    \"\"\"Limpia un tweet eliminando menciones, links y caracteres especiales\"\"\"\n",
    "    text = str(text).lower()  # Convertir a minúsculas\n",
    "    text = re.sub(r\"http\\S+|www\\S+|https\\S+\", \"\", text, flags=re.MULTILINE)\n",
    "    text = re.sub(r\"@\\w+\", \"\", text)\n",
    "    text = re.sub(r\"[^a-zA-Záéíóúñü\\s]\", \"\", text)\n",
    "    text = \" \".join([word for word in text.split() if word not in stop_words])\n",
    "    return text.strip()\n",
    "\n",
    "# Aplicar limpieza a la columna \"Texto\"\n",
    "df[\"text_limpio\"] = df[\"text\"].apply(clean_text)\n",
    "\n",
    "# Mostrar tweets limpios\n",
    "df[[\"text\", \"text_limpio\"]].head()"
   ]
  },
  {
   "cell_type": "code",
   "execution_count": 25,
   "id": "3217b966",
   "metadata": {},
   "outputs": [
    {
     "name": "stdout",
     "output_type": "stream",
     "text": [
      "✅ Tweets después de filtrar: 3787\n"
     ]
    }
   ],
   "source": [
    "min_length = 10\n",
    "max_length = 280\n",
    "\n",
    "df = df[df[\"text_limpio\"].str.len().between(min_length, max_length)]\n",
    "\n",
    "print(f\"✅ Tweets después de filtrar: {len(df)}\")"
   ]
  },
  {
   "cell_type": "code",
   "execution_count": 26,
   "id": "4ae0a072",
   "metadata": {},
   "outputs": [
    {
     "name": "stdout",
     "output_type": "stream",
     "text": [
      "✅ Tweets limpios guardados en 'processed_tweets.csv'\n"
     ]
    }
   ],
   "source": [
    "df.to_csv(\"data/processed_tweets.csv\", index=False, encoding=\"utf-8\")\n",
    "print(\"✅ Tweets limpios guardados en 'processed_tweets.csv'\")"
   ]
  },
  {
   "cell_type": "code",
   "execution_count": 27,
   "id": "47d1a8f2",
   "metadata": {},
   "outputs": [
    {
     "data": {
      "text/html": [
       "<div>\n",
       "<style scoped>\n",
       "    .dataframe tbody tr th:only-of-type {\n",
       "        vertical-align: middle;\n",
       "    }\n",
       "\n",
       "    .dataframe tbody tr th {\n",
       "        vertical-align: top;\n",
       "    }\n",
       "\n",
       "    .dataframe thead th {\n",
       "        text-align: right;\n",
       "    }\n",
       "</style>\n",
       "<table border=\"1\" class=\"dataframe\">\n",
       "  <thead>\n",
       "    <tr style=\"text-align: right;\">\n",
       "      <th></th>\n",
       "      <th>createdAt</th>\n",
       "      <th>retweetCount</th>\n",
       "      <th>viewCount</th>\n",
       "      <th>id</th>\n",
       "      <th>isReply</th>\n",
       "      <th>text</th>\n",
       "      <th>text_limpio</th>\n",
       "    </tr>\n",
       "  </thead>\n",
       "  <tbody>\n",
       "    <tr>\n",
       "      <th>0</th>\n",
       "      <td>Thu Mar 06 19:31:57 +0000 2025</td>\n",
       "      <td>0</td>\n",
       "      <td>0</td>\n",
       "      <td>1897731897133826493</td>\n",
       "      <td>False</td>\n",
       "      <td>Quiere ver como aumentan su patrimonio los min...</td>\n",
       "      <td>quiere ver aumentan patrimonio ministros boric...</td>\n",
       "    </tr>\n",
       "    <tr>\n",
       "      <th>1</th>\n",
       "      <td>Thu Mar 06 19:31:00 +0000 2025</td>\n",
       "      <td>0</td>\n",
       "      <td>1</td>\n",
       "      <td>1897731661548470479</td>\n",
       "      <td>True</td>\n",
       "      <td>@fenuchile @ivanwese De dónde, si Boric siempr...</td>\n",
       "      <td>dónde si boric siempre amarillo votamos</td>\n",
       "    </tr>\n",
       "    <tr>\n",
       "      <th>2</th>\n",
       "      <td>Thu Mar 06 19:30:36 +0000 2025</td>\n",
       "      <td>0</td>\n",
       "      <td>1</td>\n",
       "      <td>1897731561027481627</td>\n",
       "      <td>False</td>\n",
       "      <td>Que buena vida de los ZURDOS que no tienen que...</td>\n",
       "      <td>buena vida zurdos lidiar consecuencias politic...</td>\n",
       "    </tr>\n",
       "    <tr>\n",
       "      <th>3</th>\n",
       "      <td>Thu Mar 06 19:30:32 +0000 2025</td>\n",
       "      <td>0</td>\n",
       "      <td>1</td>\n",
       "      <td>1897731543843357053</td>\n",
       "      <td>True</td>\n",
       "      <td>@jgalemparte Y por qué hay que andar comprando...</td>\n",
       "      <td>andar comprando casas ex presidentes imagino f...</td>\n",
       "    </tr>\n",
       "    <tr>\n",
       "      <th>4</th>\n",
       "      <td>Thu Mar 06 19:29:30 +0000 2025</td>\n",
       "      <td>0</td>\n",
       "      <td>1</td>\n",
       "      <td>1897731281955197024</td>\n",
       "      <td>True</td>\n",
       "      <td>@PenajaAgain Magnum thin 😭😭😭😭 he hates em so h...</td>\n",
       "      <td>magnum thin hates em so hes looking at other o...</td>\n",
       "    </tr>\n",
       "  </tbody>\n",
       "</table>\n",
       "</div>"
      ],
      "text/plain": [
       "                        createdAt  retweetCount  viewCount  \\\n",
       "0  Thu Mar 06 19:31:57 +0000 2025             0          0   \n",
       "1  Thu Mar 06 19:31:00 +0000 2025             0          1   \n",
       "2  Thu Mar 06 19:30:36 +0000 2025             0          1   \n",
       "3  Thu Mar 06 19:30:32 +0000 2025             0          1   \n",
       "4  Thu Mar 06 19:29:30 +0000 2025             0          1   \n",
       "\n",
       "                    id  isReply  \\\n",
       "0  1897731897133826493    False   \n",
       "1  1897731661548470479     True   \n",
       "2  1897731561027481627    False   \n",
       "3  1897731543843357053     True   \n",
       "4  1897731281955197024     True   \n",
       "\n",
       "                                                text  \\\n",
       "0  Quiere ver como aumentan su patrimonio los min...   \n",
       "1  @fenuchile @ivanwese De dónde, si Boric siempr...   \n",
       "2  Que buena vida de los ZURDOS que no tienen que...   \n",
       "3  @jgalemparte Y por qué hay que andar comprando...   \n",
       "4  @PenajaAgain Magnum thin 😭😭😭😭 he hates em so h...   \n",
       "\n",
       "                                         text_limpio  \n",
       "0  quiere ver aumentan patrimonio ministros boric...  \n",
       "1            dónde si boric siempre amarillo votamos  \n",
       "2  buena vida zurdos lidiar consecuencias politic...  \n",
       "3  andar comprando casas ex presidentes imagino f...  \n",
       "4  magnum thin hates em so hes looking at other o...  "
      ]
     },
     "execution_count": 27,
     "metadata": {},
     "output_type": "execute_result"
    }
   ],
   "source": [
    "df = pd.read_csv('data/processed_tweets.csv')\n",
    "df.head(5)"
   ]
  },
  {
   "cell_type": "markdown",
   "id": "4dbd6a92",
   "metadata": {},
   "source": [
    "### Análisis de la data:"
   ]
  },
  {
   "cell_type": "code",
   "execution_count": 30,
   "id": "3eb12f10",
   "metadata": {},
   "outputs": [
    {
     "data": {
      "text/html": [
       "<div>\n",
       "<style scoped>\n",
       "    .dataframe tbody tr th:only-of-type {\n",
       "        vertical-align: middle;\n",
       "    }\n",
       "\n",
       "    .dataframe tbody tr th {\n",
       "        vertical-align: top;\n",
       "    }\n",
       "\n",
       "    .dataframe thead th {\n",
       "        text-align: right;\n",
       "    }\n",
       "</style>\n",
       "<table border=\"1\" class=\"dataframe\">\n",
       "  <thead>\n",
       "    <tr style=\"text-align: right;\">\n",
       "      <th></th>\n",
       "      <th>createdAt</th>\n",
       "      <th>retweetCount</th>\n",
       "      <th>viewCount</th>\n",
       "      <th>id</th>\n",
       "      <th>isReply</th>\n",
       "      <th>text</th>\n",
       "      <th>text_limpio</th>\n",
       "    </tr>\n",
       "  </thead>\n",
       "  <tbody>\n",
       "    <tr>\n",
       "      <th>3473</th>\n",
       "      <td>Mon Mar 03 18:57:08 +0000 2025</td>\n",
       "      <td>1796</td>\n",
       "      <td>550605</td>\n",
       "      <td>1896635972466749512</td>\n",
       "      <td>False</td>\n",
       "      <td>Expropiaremos Colonia Dignidad. Uno de los lug...</td>\n",
       "      <td>expropiaremos colonia dignidad lugares oscuros...</td>\n",
       "    </tr>\n",
       "    <tr>\n",
       "      <th>3058</th>\n",
       "      <td>Wed Mar 05 15:00:31 +0000 2025</td>\n",
       "      <td>746</td>\n",
       "      <td>462346</td>\n",
       "      <td>1897301204453233097</td>\n",
       "      <td>False</td>\n",
       "      <td>🇨🇱🇺🇸 | AHORA: El presidente chileno Gabriel Bo...</td>\n",
       "      <td>ahora presidente chileno gabriel boric confirm...</td>\n",
       "    </tr>\n",
       "    <tr>\n",
       "      <th>1490</th>\n",
       "      <td>Wed Mar 05 15:00:31 +0000 2025</td>\n",
       "      <td>746</td>\n",
       "      <td>462290</td>\n",
       "      <td>1897301204453233097</td>\n",
       "      <td>False</td>\n",
       "      <td>🇨🇱🇺🇸 | AHORA: El presidente chileno Gabriel Bo...</td>\n",
       "      <td>ahora presidente chileno gabriel boric confirm...</td>\n",
       "    </tr>\n",
       "    <tr>\n",
       "      <th>3340</th>\n",
       "      <td>Tue Mar 04 17:48:45 +0000 2025</td>\n",
       "      <td>4016</td>\n",
       "      <td>386621</td>\n",
       "      <td>1896981153678340309</td>\n",
       "      <td>False</td>\n",
       "      <td>Agradezco la llamada del presidente Gabriel Bo...</td>\n",
       "      <td>agradezco llamada presidente gabriel boric rel...</td>\n",
       "    </tr>\n",
       "    <tr>\n",
       "      <th>3724</th>\n",
       "      <td>Sat Mar 01 20:35:35 +0000 2025</td>\n",
       "      <td>618</td>\n",
       "      <td>286727</td>\n",
       "      <td>1895935975098106255</td>\n",
       "      <td>False</td>\n",
       "      <td>Tanto tiempo lejos con nuestros hermanos de Bo...</td>\n",
       "      <td>tiempo lejos hermanos bolivia común hora avanz...</td>\n",
       "    </tr>\n",
       "    <tr>\n",
       "      <th>...</th>\n",
       "      <td>...</td>\n",
       "      <td>...</td>\n",
       "      <td>...</td>\n",
       "      <td>...</td>\n",
       "      <td>...</td>\n",
       "      <td>...</td>\n",
       "      <td>...</td>\n",
       "    </tr>\n",
       "    <tr>\n",
       "      <th>835</th>\n",
       "      <td>Thu Mar 06 13:49:38 +0000 2025</td>\n",
       "      <td>0</td>\n",
       "      <td>0</td>\n",
       "      <td>1897645753952035283</td>\n",
       "      <td>True</td>\n",
       "      <td>@MarceloRojas Sinceramente, si fueras Empresar...</td>\n",
       "      <td>sinceramente si empresario darías pega algun p...</td>\n",
       "    </tr>\n",
       "    <tr>\n",
       "      <th>112</th>\n",
       "      <td>Thu Mar 06 18:44:38 +0000 2025</td>\n",
       "      <td>0</td>\n",
       "      <td>0</td>\n",
       "      <td>1897719991199244531</td>\n",
       "      <td>True</td>\n",
       "      <td>@miguellittin Los jóvenes están súper felices ...</td>\n",
       "      <td>jóvenes súper felices boric favor realismo pol...</td>\n",
       "    </tr>\n",
       "    <tr>\n",
       "      <th>83</th>\n",
       "      <td>Thu Mar 06 19:00:49 +0000 2025</td>\n",
       "      <td>0</td>\n",
       "      <td>0</td>\n",
       "      <td>1897724063344120230</td>\n",
       "      <td>False</td>\n",
       "      <td>Boric en modo electoral: enfatiza que “no da l...</td>\n",
       "      <td>boric modo electoral enfatiza da mismo gobiern...</td>\n",
       "    </tr>\n",
       "    <tr>\n",
       "      <th>2916</th>\n",
       "      <td>Thu Mar 06 12:12:00 +0000 2025</td>\n",
       "      <td>0</td>\n",
       "      <td>0</td>\n",
       "      <td>1897621180095279382</td>\n",
       "      <td>True</td>\n",
       "      <td>@Damivago @AXELKAISER Pensaba ver a Gabriel Bo...</td>\n",
       "      <td>pensaba ver gabriel boric ahí</td>\n",
       "    </tr>\n",
       "    <tr>\n",
       "      <th>2697</th>\n",
       "      <td>Wed Mar 05 17:10:18 +0000 2025</td>\n",
       "      <td>0</td>\n",
       "      <td>0</td>\n",
       "      <td>1897333861820117195</td>\n",
       "      <td>True</td>\n",
       "      <td>@golesendir_ En Chile tenemos la chilena, esta...</td>\n",
       "      <td>chile chilena debería ser mexicana menos nunca...</td>\n",
       "    </tr>\n",
       "  </tbody>\n",
       "</table>\n",
       "<p>3787 rows × 7 columns</p>\n",
       "</div>"
      ],
      "text/plain": [
       "                           createdAt  retweetCount  viewCount  \\\n",
       "3473  Mon Mar 03 18:57:08 +0000 2025          1796     550605   \n",
       "3058  Wed Mar 05 15:00:31 +0000 2025           746     462346   \n",
       "1490  Wed Mar 05 15:00:31 +0000 2025           746     462290   \n",
       "3340  Tue Mar 04 17:48:45 +0000 2025          4016     386621   \n",
       "3724  Sat Mar 01 20:35:35 +0000 2025           618     286727   \n",
       "...                              ...           ...        ...   \n",
       "835   Thu Mar 06 13:49:38 +0000 2025             0          0   \n",
       "112   Thu Mar 06 18:44:38 +0000 2025             0          0   \n",
       "83    Thu Mar 06 19:00:49 +0000 2025             0          0   \n",
       "2916  Thu Mar 06 12:12:00 +0000 2025             0          0   \n",
       "2697  Wed Mar 05 17:10:18 +0000 2025             0          0   \n",
       "\n",
       "                       id  isReply  \\\n",
       "3473  1896635972466749512    False   \n",
       "3058  1897301204453233097    False   \n",
       "1490  1897301204453233097    False   \n",
       "3340  1896981153678340309    False   \n",
       "3724  1895935975098106255    False   \n",
       "...                   ...      ...   \n",
       "835   1897645753952035283     True   \n",
       "112   1897719991199244531     True   \n",
       "83    1897724063344120230    False   \n",
       "2916  1897621180095279382     True   \n",
       "2697  1897333861820117195     True   \n",
       "\n",
       "                                                   text  \\\n",
       "3473  Expropiaremos Colonia Dignidad. Uno de los lug...   \n",
       "3058  🇨🇱🇺🇸 | AHORA: El presidente chileno Gabriel Bo...   \n",
       "1490  🇨🇱🇺🇸 | AHORA: El presidente chileno Gabriel Bo...   \n",
       "3340  Agradezco la llamada del presidente Gabriel Bo...   \n",
       "3724  Tanto tiempo lejos con nuestros hermanos de Bo...   \n",
       "...                                                 ...   \n",
       "835   @MarceloRojas Sinceramente, si fueras Empresar...   \n",
       "112   @miguellittin Los jóvenes están súper felices ...   \n",
       "83    Boric en modo electoral: enfatiza que “no da l...   \n",
       "2916  @Damivago @AXELKAISER Pensaba ver a Gabriel Bo...   \n",
       "2697  @golesendir_ En Chile tenemos la chilena, esta...   \n",
       "\n",
       "                                            text_limpio  \n",
       "3473  expropiaremos colonia dignidad lugares oscuros...  \n",
       "3058  ahora presidente chileno gabriel boric confirm...  \n",
       "1490  ahora presidente chileno gabriel boric confirm...  \n",
       "3340  agradezco llamada presidente gabriel boric rel...  \n",
       "3724  tiempo lejos hermanos bolivia común hora avanz...  \n",
       "...                                                 ...  \n",
       "835   sinceramente si empresario darías pega algun p...  \n",
       "112   jóvenes súper felices boric favor realismo pol...  \n",
       "83    boric modo electoral enfatiza da mismo gobiern...  \n",
       "2916                      pensaba ver gabriel boric ahí  \n",
       "2697  chile chilena debería ser mexicana menos nunca...  \n",
       "\n",
       "[3787 rows x 7 columns]"
      ]
     },
     "execution_count": 30,
     "metadata": {},
     "output_type": "execute_result"
    }
   ],
   "source": [
    "df = df.sort_values(by='viewCount', ascending=False)\n",
    "df"
   ]
  },
  {
   "cell_type": "markdown",
   "id": "a91d6095",
   "metadata": {},
   "source": [
    "## Word Embedding:"
   ]
  },
  {
   "cell_type": "code",
   "execution_count": 64,
   "id": "e0a94320",
   "metadata": {},
   "outputs": [
    {
     "ename": "ImportError",
     "evalue": "cannot import name 'triu' from 'scipy.linalg.special_matrices' (/home/pollodk/.pyenv/versions/3.10.6/lib/python3.10/site-packages/scipy/linalg/special_matrices.py)",
     "output_type": "error",
     "traceback": [
      "\u001b[0;31m---------------------------------------------------------------------------\u001b[0m",
      "\u001b[0;31mImportError\u001b[0m                               Traceback (most recent call last)",
      "Cell \u001b[0;32mIn [64], line 1\u001b[0m\n\u001b[0;32m----> 1\u001b[0m \u001b[38;5;28;01mimport\u001b[39;00m \u001b[38;5;21;01mgensim\u001b[39;00m\n\u001b[1;32m      2\u001b[0m \u001b[38;5;28;01mimport\u001b[39;00m \u001b[38;5;21;01mpandas\u001b[39;00m \u001b[38;5;28;01mas\u001b[39;00m \u001b[38;5;21;01mpd\u001b[39;00m\n\u001b[1;32m      3\u001b[0m \u001b[38;5;28;01mfrom\u001b[39;00m \u001b[38;5;21;01mtqdm\u001b[39;00m\u001b[38;5;21;01m.\u001b[39;00m\u001b[38;5;21;01mnotebook\u001b[39;00m \u001b[38;5;28;01mimport\u001b[39;00m tqdm\n",
      "File \u001b[0;32m~/.pyenv/versions/3.10.6/lib/python3.10/site-packages/gensim/__init__.py:11\u001b[0m\n\u001b[1;32m      7\u001b[0m __version__ \u001b[38;5;241m=\u001b[39m \u001b[38;5;124m'\u001b[39m\u001b[38;5;124m4.2.0\u001b[39m\u001b[38;5;124m'\u001b[39m\n\u001b[1;32m      9\u001b[0m \u001b[38;5;28;01mimport\u001b[39;00m \u001b[38;5;21;01mlogging\u001b[39;00m\n\u001b[0;32m---> 11\u001b[0m \u001b[38;5;28;01mfrom\u001b[39;00m \u001b[38;5;21;01mgensim\u001b[39;00m \u001b[38;5;28;01mimport\u001b[39;00m parsing, corpora, matutils, interfaces, models, similarities, utils  \u001b[38;5;66;03m# noqa:F401\u001b[39;00m\n\u001b[1;32m     14\u001b[0m logger \u001b[38;5;241m=\u001b[39m logging\u001b[38;5;241m.\u001b[39mgetLogger(\u001b[38;5;124m'\u001b[39m\u001b[38;5;124mgensim\u001b[39m\u001b[38;5;124m'\u001b[39m)\n\u001b[1;32m     15\u001b[0m \u001b[38;5;28;01mif\u001b[39;00m \u001b[38;5;129;01mnot\u001b[39;00m logger\u001b[38;5;241m.\u001b[39mhandlers:  \u001b[38;5;66;03m# To ensure reload() doesn't add another one\u001b[39;00m\n",
      "File \u001b[0;32m~/.pyenv/versions/3.10.6/lib/python3.10/site-packages/gensim/corpora/__init__.py:6\u001b[0m\n\u001b[1;32m      1\u001b[0m \u001b[38;5;124;03m\"\"\"\u001b[39;00m\n\u001b[1;32m      2\u001b[0m \u001b[38;5;124;03mThis package contains implementations of various streaming corpus I/O format.\u001b[39;00m\n\u001b[1;32m      3\u001b[0m \u001b[38;5;124;03m\"\"\"\u001b[39;00m\n\u001b[1;32m      5\u001b[0m \u001b[38;5;66;03m# bring corpus classes directly into package namespace, to save some typing\u001b[39;00m\n\u001b[0;32m----> 6\u001b[0m \u001b[38;5;28;01mfrom\u001b[39;00m \u001b[38;5;21;01m.\u001b[39;00m\u001b[38;5;21;01mindexedcorpus\u001b[39;00m \u001b[38;5;28;01mimport\u001b[39;00m IndexedCorpus  \u001b[38;5;66;03m# noqa:F401 must appear before the other classes\u001b[39;00m\n\u001b[1;32m      8\u001b[0m \u001b[38;5;28;01mfrom\u001b[39;00m \u001b[38;5;21;01m.\u001b[39;00m\u001b[38;5;21;01mmmcorpus\u001b[39;00m \u001b[38;5;28;01mimport\u001b[39;00m MmCorpus  \u001b[38;5;66;03m# noqa:F401\u001b[39;00m\n\u001b[1;32m      9\u001b[0m \u001b[38;5;28;01mfrom\u001b[39;00m \u001b[38;5;21;01m.\u001b[39;00m\u001b[38;5;21;01mbleicorpus\u001b[39;00m \u001b[38;5;28;01mimport\u001b[39;00m BleiCorpus  \u001b[38;5;66;03m# noqa:F401\u001b[39;00m\n",
      "File \u001b[0;32m~/.pyenv/versions/3.10.6/lib/python3.10/site-packages/gensim/corpora/indexedcorpus.py:14\u001b[0m\n\u001b[1;32m     10\u001b[0m \u001b[38;5;28;01mimport\u001b[39;00m \u001b[38;5;21;01mlogging\u001b[39;00m\n\u001b[1;32m     12\u001b[0m \u001b[38;5;28;01mimport\u001b[39;00m \u001b[38;5;21;01mnumpy\u001b[39;00m\n\u001b[0;32m---> 14\u001b[0m \u001b[38;5;28;01mfrom\u001b[39;00m \u001b[38;5;21;01mgensim\u001b[39;00m \u001b[38;5;28;01mimport\u001b[39;00m interfaces, utils\n\u001b[1;32m     16\u001b[0m logger \u001b[38;5;241m=\u001b[39m logging\u001b[38;5;241m.\u001b[39mgetLogger(\u001b[38;5;18m__name__\u001b[39m)\n\u001b[1;32m     19\u001b[0m \u001b[38;5;28;01mclass\u001b[39;00m \u001b[38;5;21;01mIndexedCorpus\u001b[39;00m(interfaces\u001b[38;5;241m.\u001b[39mCorpusABC):\n",
      "File \u001b[0;32m~/.pyenv/versions/3.10.6/lib/python3.10/site-packages/gensim/interfaces.py:19\u001b[0m\n\u001b[1;32m      7\u001b[0m \u001b[38;5;124;03m\"\"\"Basic interfaces used across the whole Gensim package.\u001b[39;00m\n\u001b[1;32m      8\u001b[0m \n\u001b[1;32m      9\u001b[0m \u001b[38;5;124;03mThese interfaces are used for building corpora, model transformation and similarity queries.\u001b[39;00m\n\u001b[0;32m   (...)\u001b[0m\n\u001b[1;32m     14\u001b[0m \n\u001b[1;32m     15\u001b[0m \u001b[38;5;124;03m\"\"\"\u001b[39;00m\n\u001b[1;32m     17\u001b[0m \u001b[38;5;28;01mimport\u001b[39;00m \u001b[38;5;21;01mlogging\u001b[39;00m\n\u001b[0;32m---> 19\u001b[0m \u001b[38;5;28;01mfrom\u001b[39;00m \u001b[38;5;21;01mgensim\u001b[39;00m \u001b[38;5;28;01mimport\u001b[39;00m utils, matutils\n\u001b[1;32m     22\u001b[0m logger \u001b[38;5;241m=\u001b[39m logging\u001b[38;5;241m.\u001b[39mgetLogger(\u001b[38;5;18m__name__\u001b[39m)\n\u001b[1;32m     25\u001b[0m \u001b[38;5;28;01mclass\u001b[39;00m \u001b[38;5;21;01mCorpusABC\u001b[39;00m(utils\u001b[38;5;241m.\u001b[39mSaveLoad):\n",
      "File \u001b[0;32m~/.pyenv/versions/3.10.6/lib/python3.10/site-packages/gensim/matutils.py:22\u001b[0m\n\u001b[1;32m     20\u001b[0m \u001b[38;5;28;01mimport\u001b[39;00m \u001b[38;5;21;01mscipy\u001b[39;00m\u001b[38;5;21;01m.\u001b[39;00m\u001b[38;5;21;01mlinalg\u001b[39;00m\n\u001b[1;32m     21\u001b[0m \u001b[38;5;28;01mfrom\u001b[39;00m \u001b[38;5;21;01mscipy\u001b[39;00m\u001b[38;5;21;01m.\u001b[39;00m\u001b[38;5;21;01mlinalg\u001b[39;00m\u001b[38;5;21;01m.\u001b[39;00m\u001b[38;5;21;01mlapack\u001b[39;00m \u001b[38;5;28;01mimport\u001b[39;00m get_lapack_funcs\n\u001b[0;32m---> 22\u001b[0m \u001b[38;5;28;01mfrom\u001b[39;00m \u001b[38;5;21;01mscipy\u001b[39;00m\u001b[38;5;21;01m.\u001b[39;00m\u001b[38;5;21;01mlinalg\u001b[39;00m\u001b[38;5;21;01m.\u001b[39;00m\u001b[38;5;21;01mspecial_matrices\u001b[39;00m \u001b[38;5;28;01mimport\u001b[39;00m triu\n\u001b[1;32m     23\u001b[0m \u001b[38;5;28;01mfrom\u001b[39;00m \u001b[38;5;21;01mscipy\u001b[39;00m\u001b[38;5;21;01m.\u001b[39;00m\u001b[38;5;21;01mspecial\u001b[39;00m \u001b[38;5;28;01mimport\u001b[39;00m psi  \u001b[38;5;66;03m# gamma function utils\u001b[39;00m\n\u001b[1;32m     26\u001b[0m logger \u001b[38;5;241m=\u001b[39m logging\u001b[38;5;241m.\u001b[39mgetLogger(\u001b[38;5;18m__name__\u001b[39m)\n",
      "\u001b[0;31mImportError\u001b[0m: cannot import name 'triu' from 'scipy.linalg.special_matrices' (/home/pollodk/.pyenv/versions/3.10.6/lib/python3.10/site-packages/scipy/linalg/special_matrices.py)"
     ]
    }
   ],
   "source": [
    "import gensim\n",
    "import pandas as pd\n",
    "from tqdm.notebook import tqdm\n",
    "\n",
    "# Cargar el modelo de FastText pre-entrenado\n",
    "fasttext_model_path = \"cc.es.300.vec\"\n",
    "word_vectors = gensim.models.KeyedVectors.load_word2vec_format(fasttext_model_path, binary=False)\n",
    "\n",
    "# Verificar que el modelo se cargó correctamente\n",
    "print(\"✅ Modelo FastText cargado con éxito\")\n",
    "print(f\"Número de palabras en el vocabulario: {len(word_vectors.index_to_key)}\")"
   ]
  }
 ],
 "metadata": {
  "kernelspec": {
   "display_name": "Python 3 (ipykernel)",
   "language": "python",
   "name": "python3"
  },
  "language_info": {
   "codemirror_mode": {
    "name": "ipython",
    "version": 3
   },
   "file_extension": ".py",
   "mimetype": "text/x-python",
   "name": "python",
   "nbconvert_exporter": "python",
   "pygments_lexer": "ipython3",
   "version": "3.10.6"
  },
  "toc": {
   "base_numbering": 1,
   "nav_menu": {},
   "number_sections": true,
   "sideBar": true,
   "skip_h1_title": false,
   "title_cell": "Table of Contents",
   "title_sidebar": "Contents",
   "toc_cell": false,
   "toc_position": {},
   "toc_section_display": true,
   "toc_window_display": false
  }
 },
 "nbformat": 4,
 "nbformat_minor": 5
}
